{
 "cells": [
  {
   "cell_type": "code",
   "execution_count": 5,
   "id": "001ff01a-cd7c-4dfe-8cfe-d749be839cac",
   "metadata": {},
   "outputs": [],
   "source": [
    "class multiplefunctions():\n",
    "        def SubfieldsInAi():\n",
    "            lists=[\"ML\",\"neural networks\",\"vision\",\"Robotics\",\"speech processing\",\"NLP\"]\n",
    "            print(\"Sub-fields in AI are:\")\n",
    "            for temp in lists:\n",
    "              print(temp)\n",
    "        def Oddeven():\n",
    "            num=int(input(\"enter the number:\"))\n",
    "            if((num%2==0)):\n",
    "                print(num,\"is even number\")\n",
    "                message=\"even number\"\n",
    "            else:\n",
    "                print(num,\"is odd number\")\n",
    "                message=\"odd number\"\n",
    "            return message\n",
    "        def Eligible():\n",
    "            Gender=input(\"your Gender:\")\n",
    "            Age=int(input(\"your age:\"))\n",
    "            if Gender==\"male\":\n",
    "                if (Age>=21):\n",
    "                    print(\"Eligible\")\n",
    "                    eligible=\"Eligible\"\n",
    "                else:\n",
    "                    print(\"Not Eligible\")\n",
    "                    eligible=\"Not Eligible\"\n",
    "            elif Gender==(\"female\"):\n",
    "                if (Age>=18):\n",
    "                    print(\"Eligible\")\n",
    "                    eligible=\"Eligible\"\n",
    "                else:\n",
    "                    print(\"Not Eligible\")\n",
    "                    eligible=\"NotEligible\"\n",
    "            return eligible\n",
    "        def Findpercentage():\n",
    "            subject1=98\n",
    "            print(\"subject1=\",subject1)\n",
    "            subject2=87\n",
    "            print(\"subject2=\",subject2)\n",
    "            subject3=95\n",
    "            print(\"subject3=\",subject3)\n",
    "            subject4=95\n",
    "            print(\"subject4=\",subject4)\n",
    "            subject5=93\n",
    "            print(\"subject5=\",subject5)\n",
    "            print(\"total:\",subject1+subject2+subject3+subject4+subject5)\n",
    "            total=int(subject1+subject2+subject3+subject4+subject5)\n",
    "            print(\"percentage:\",total/500)\n"
   ]
  },
  {
   "cell_type": "code",
   "execution_count": 7,
   "id": "19bf0895-0508-4612-aae3-f58b3fa33738",
   "metadata": {},
   "outputs": [
    {
     "name": "stdin",
     "output_type": "stream",
     "text": [
      "your Gender: male\n",
      "your age: 25\n"
     ]
    },
    {
     "name": "stdout",
     "output_type": "stream",
     "text": [
      "Eligible\n"
     ]
    },
    {
     "data": {
      "text/plain": [
       "'Eligible'"
      ]
     },
     "execution_count": 7,
     "metadata": {},
     "output_type": "execute_result"
    }
   ],
   "source": [
    "multiplefunctions.Eligible()"
   ]
  },
  {
   "cell_type": "code",
   "execution_count": null,
   "id": "1eb77df0-8e33-4b63-bcf0-5b6a68e94d84",
   "metadata": {},
   "outputs": [],
   "source": []
  }
 ],
 "metadata": {
  "kernelspec": {
   "display_name": "Python 3 (ipykernel)",
   "language": "python",
   "name": "python3"
  },
  "language_info": {
   "codemirror_mode": {
    "name": "ipython",
    "version": 3
   },
   "file_extension": ".py",
   "mimetype": "text/x-python",
   "name": "python",
   "nbconvert_exporter": "python",
   "pygments_lexer": "ipython3",
   "version": "3.13.5"
  }
 },
 "nbformat": 4,
 "nbformat_minor": 5
}
