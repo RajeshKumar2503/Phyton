{
 "cells": [
  {
   "cell_type": "code",
   "execution_count": 69,
   "id": "408a5b55-3f5a-4d4d-b012-d90ee8d27dca",
   "metadata": {},
   "outputs": [],
   "source": [
    "def SubfieldsInAi():\n",
    "    lists=[\"ML\",\"neural networks\",\"vision\",\"Robotics\",\"speech processing\",\"NLP\"]\n",
    "    print(\"Sub-fields in AI are:\")\n",
    "    for temp in lists:\n",
    "      print(temp)"
   ]
  },
  {
   "cell_type": "code",
   "execution_count": 70,
   "id": "eb38ec61-d434-4275-9126-a5a918db4072",
   "metadata": {},
   "outputs": [
    {
     "name": "stdout",
     "output_type": "stream",
     "text": [
      "Sub-fields in AI are:\n",
      "ML\n",
      "neural networks\n",
      "vision\n",
      "Robotics\n",
      "speech processing\n",
      "NLP\n"
     ]
    }
   ],
   "source": [
    "SubfieldsInAi()"
   ]
  },
  {
   "cell_type": "code",
   "execution_count": 76,
   "id": "f18d27a9-3ca9-4c24-b0a1-f11f3ed0ab39",
   "metadata": {},
   "outputs": [],
   "source": [
    "def Oddeven():\n",
    "    num=int(input(\"enter the number:\"))\n",
    "    if((num%2==0)):\n",
    "        print(num,\"is even number\")\n",
    "        message=\"even number\"\n",
    "    else:\n",
    "        print(num,\"is odd number\")\n",
    "        message=\"odd number\"\n",
    "    return message\n"
   ]
  },
  {
   "cell_type": "code",
   "execution_count": 79,
   "id": "86f2b614-0834-47d0-9b7b-99913df65574",
   "metadata": {},
   "outputs": [
    {
     "name": "stdin",
     "output_type": "stream",
     "text": [
      "enter the number: 5321\n"
     ]
    },
    {
     "name": "stdout",
     "output_type": "stream",
     "text": [
      "5321 is odd number\n"
     ]
    },
    {
     "data": {
      "text/plain": [
       "'odd number'"
      ]
     },
     "execution_count": 79,
     "metadata": {},
     "output_type": "execute_result"
    }
   ],
   "source": [
    "Oddeven()"
   ]
  },
  {
   "cell_type": "code",
   "execution_count": 7,
   "id": "3040a8e7-7c2f-4487-b5f5-22c5dbf8c0be",
   "metadata": {},
   "outputs": [
    {
     "name": "stdin",
     "output_type": "stream",
     "text": [
      "Enter your gender ('M' for male, 'F' for female):  M\n",
      "Enter your age:  20\n"
     ]
    },
    {
     "name": "stdout",
     "output_type": "stream",
     "text": [
      "Not eligible for marriage\n"
     ]
    }
   ],
   "source": [
    "gender = input(\"Enter your gender ('M' for male, 'F' for female): \")\n",
    "age = int(input(\"Enter your age: \"))\n",
    "if gender == 'M':\n",
    "     if age >= 21:\n",
    "         print(\"Eligible for marriage.\")\n",
    "     else:\n",
    "        print(\"Not eligible for marriage\")\n",
    "elif gender == 'F':\n",
    "     if age >= 18:\n",
    "        print(\"Eligible for marriage.\")\n",
    "     else:\n",
    "        print(\"Not eligible for marriage (minimum age for females is 18).\")\n",
    "     \n"
   ]
  },
  {
   "cell_type": "code",
   "execution_count": 18,
   "id": "3820dc40-f826-4781-81c5-47772356e9bf",
   "metadata": {},
   "outputs": [],
   "source": [
    "def Eligible():\n",
    "    Gender=input(\"your Gender:\")\n",
    "    Age=int(input(\"your age:\"))\n",
    "    if Gender==\"male\":\n",
    "        if (Age>=21):\n",
    "            print(\"Eligible\")\n",
    "            eligible=\"Eligible\"\n",
    "        else:\n",
    "            print(\"Not Eligible\")\n",
    "            eligible=\"Not Eligible\"\n",
    "    elif Gender==(\"female\"):\n",
    "        if (Age>=18):\n",
    "            print(\"Eligible\")\n",
    "            eligible=\"Eligible\"\n",
    "        else:\n",
    "            print(\"Not Eligible\")\n",
    "            eligible=\"NotEligible\"\n",
    "    return eligible\n",
    "            "
   ]
  },
  {
   "cell_type": "code",
   "execution_count": 20,
   "id": "b5319785-3fcc-41be-bdfb-8c4e0e0d860b",
   "metadata": {},
   "outputs": [
    {
     "name": "stdin",
     "output_type": "stream",
     "text": [
      "your Gender: female\n",
      "your age: 17\n"
     ]
    },
    {
     "name": "stdout",
     "output_type": "stream",
     "text": [
      "Not Eligible\n"
     ]
    },
    {
     "data": {
      "text/plain": [
       "'NotEligible'"
      ]
     },
     "execution_count": 20,
     "metadata": {},
     "output_type": "execute_result"
    }
   ],
   "source": [
    "Eligible()"
   ]
  },
  {
   "cell_type": "code",
   "execution_count": 58,
   "id": "ced7abbc-5c83-4d7f-8cf8-b17ccf9405a2",
   "metadata": {},
   "outputs": [],
   "source": [
    "def Findpercentage():\n",
    "    subject1=98\n",
    "    print(\"subject1=\",subject1)\n",
    "    subject2=87\n",
    "    print(\"subject2=\",subject2)\n",
    "    subject3=95\n",
    "    print(\"subject3=\",subject3)\n",
    "    subject4=95\n",
    "    print(\"subject4=\",subject4)\n",
    "    subject5=93\n",
    "    print(\"subject5=\",subject5)\n",
    "    print(\"total:\",subject1+subject2+subject3+subject4+subject5)\n",
    "    total=int(subject1+subject2+subject3+subject4+subject5)\n",
    "    print(\"percentage:\",total/500)"
   ]
  },
  {
   "cell_type": "code",
   "execution_count": 59,
   "id": "e533f068-43a4-4add-9b1d-118d66d46a60",
   "metadata": {},
   "outputs": [
    {
     "name": "stdout",
     "output_type": "stream",
     "text": [
      "subject1= 98\n",
      "subject2= 87\n",
      "subject3= 95\n",
      "subject4= 95\n",
      "subject5= 93\n",
      "total: 468\n",
      "percentage: 0.936\n"
     ]
    }
   ],
   "source": [
    "Findpercentage()"
   ]
  },
  {
   "cell_type": "code",
   "execution_count": null,
   "id": "50676787-545f-44e5-bb41-16f1d67a8391",
   "metadata": {},
   "outputs": [],
   "source": []
  }
 ],
 "metadata": {
  "kernelspec": {
   "display_name": "Python 3 (ipykernel)",
   "language": "python",
   "name": "python3"
  },
  "language_info": {
   "codemirror_mode": {
    "name": "ipython",
    "version": 3
   },
   "file_extension": ".py",
   "mimetype": "text/x-python",
   "name": "python",
   "nbconvert_exporter": "python",
   "pygments_lexer": "ipython3",
   "version": "3.13.5"
  }
 },
 "nbformat": 4,
 "nbformat_minor": 5
}
