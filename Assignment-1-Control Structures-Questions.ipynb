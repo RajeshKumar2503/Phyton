{
 "cells": [
  {
   "cell_type": "code",
   "execution_count": 1,
   "id": "494dcee5-f0fc-4853-bacb-7a6de813e1ee",
   "metadata": {},
   "outputs": [
    {
     "name": "stdout",
     "output_type": "stream",
     "text": [
      "Welcome to Assignment-1\n"
     ]
    }
   ],
   "source": [
    "print(\"Welcome to Assignment-1\")"
   ]
  },
  {
   "cell_type": "code",
   "execution_count": 6,
   "id": "66a99344-52c8-4fbc-9086-fa853486949a",
   "metadata": {},
   "outputs": [
    {
     "name": "stdout",
     "output_type": "stream",
     "text": [
      "40\n"
     ]
    }
   ],
   "source": [
    "Num1=10\n",
    "Num2=30\n",
    "print(Num1+Num2)"
   ]
  },
  {
   "cell_type": "code",
   "execution_count": 10,
   "id": "bcee2c26-497f-47d3-866e-52a9985125fa",
   "metadata": {},
   "outputs": [
    {
     "name": "stdout",
     "output_type": "stream",
     "text": [
      "Num1=10\n",
      "Num2=30\n",
      "Add=40\n"
     ]
    }
   ],
   "source": [
    "print(\"Num1=10\")\n",
    "print(\"Num2=30\")\n",
    "print(\"Add=40\")\n"
   ]
  },
  {
   "cell_type": "code",
   "execution_count": 29,
   "id": "5507485f-4b76-45c2-a3cb-2d73156ee82e",
   "metadata": {},
   "outputs": [
    {
     "name": "stdin",
     "output_type": "stream",
     "text": [
      "Enter the bmi index: 23\n"
     ]
    },
    {
     "name": "stdout",
     "output_type": "stream",
     "text": [
      "Normal weight\n"
     ]
    }
   ],
   "source": [
    "weight=int(input(\"Enter the bmi index:\"))\n",
    "if(weight<18.4):\n",
    "    print(\"Under weight\")\n",
    "elif(weight<24.9):\n",
    "    print(\"Normal weight\")\n",
    "elif(weight<29.9):\n",
    "    print(\"over weight\")\n",
    "elif(weight<34.9):\n",
    "    print(\"obese\")\n",
    "else:\n",
    " print(\"Exceseobese\")\n"
   ]
  },
  {
   "cell_type": "code",
   "execution_count": 30,
   "id": "eb84398b-e40b-4881-854e-1a2e5e70b086",
   "metadata": {},
   "outputs": [
    {
     "name": "stdout",
     "output_type": "stream",
     "text": [
      "addition of two numbers\n",
      "the number1: 20\n",
      "the number1: 50\n",
      "the answer: 70\n"
     ]
    }
   ],
   "source": [
    "print(\"addition of two numbers\")\n",
    "num1=20\n",
    "print(\"the number1:\",num1)\n",
    "num2=50\n",
    "print(\"the number1:\",num2)\n",
    "print(\"the answer:\",num1+num2)"
   ]
  },
  {
   "cell_type": "code",
   "execution_count": null,
   "id": "16d27d84-dd50-4638-9eee-569b49185fbd",
   "metadata": {},
   "outputs": [],
   "source": []
  }
 ],
 "metadata": {
  "kernelspec": {
   "display_name": "Python 3 (ipykernel)",
   "language": "python",
   "name": "python3"
  },
  "language_info": {
   "codemirror_mode": {
    "name": "ipython",
    "version": 3
   },
   "file_extension": ".py",
   "mimetype": "text/x-python",
   "name": "python",
   "nbconvert_exporter": "python",
   "pygments_lexer": "ipython3",
   "version": "3.13.5"
  }
 },
 "nbformat": 4,
 "nbformat_minor": 5
}
