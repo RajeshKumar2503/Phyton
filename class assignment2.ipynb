{
 "cells": [
  {
   "cell_type": "code",
   "execution_count": 3,
   "id": "dc6bb271-61f0-4439-88e7-d1256e683380",
   "metadata": {},
   "outputs": [],
   "source": [
    "from multiplefunction import multiplefunctions"
   ]
  },
  {
   "cell_type": "code",
   "execution_count": 4,
   "id": "79d2c0f2-1eb9-4964-bb73-156a354aad95",
   "metadata": {},
   "outputs": [
    {
     "name": "stdin",
     "output_type": "stream",
     "text": [
      "your Gender: female\n",
      "your age: 17\n"
     ]
    },
    {
     "name": "stdout",
     "output_type": "stream",
     "text": [
      "Not Eligible\n"
     ]
    },
    {
     "data": {
      "text/plain": [
       "'NotEligible'"
      ]
     },
     "execution_count": 4,
     "metadata": {},
     "output_type": "execute_result"
    }
   ],
   "source": [
    "multiplefunctions.Eligible()"
   ]
  },
  {
   "cell_type": "code",
   "execution_count": 5,
   "id": "09c98f00-65ae-4419-9735-fd1e5cffccbf",
   "metadata": {},
   "outputs": [
    {
     "name": "stdout",
     "output_type": "stream",
     "text": [
      "Sub-fields in AI are:\n",
      "ML\n",
      "neural networks\n",
      "vision\n",
      "Robotics\n",
      "speech processing\n",
      "NLP\n"
     ]
    }
   ],
   "source": [
    "multiplefunctions.SubfieldsInAi()"
   ]
  },
  {
   "cell_type": "code",
   "execution_count": 6,
   "id": "fe7ced4c-a3a3-4ff9-a800-5859a2cce0e3",
   "metadata": {},
   "outputs": [
    {
     "name": "stdin",
     "output_type": "stream",
     "text": [
      "enter the number: 22\n"
     ]
    },
    {
     "name": "stdout",
     "output_type": "stream",
     "text": [
      "22 is even number\n"
     ]
    },
    {
     "data": {
      "text/plain": [
       "'even number'"
      ]
     },
     "execution_count": 6,
     "metadata": {},
     "output_type": "execute_result"
    }
   ],
   "source": [
    "multiplefunctions.Oddeven()"
   ]
  },
  {
   "cell_type": "code",
   "execution_count": 7,
   "id": "6a970d17-56bf-4742-9d84-73c4f1f4ca19",
   "metadata": {},
   "outputs": [
    {
     "name": "stdout",
     "output_type": "stream",
     "text": [
      "subject1= 98\n",
      "subject2= 87\n",
      "subject3= 95\n",
      "subject4= 95\n",
      "subject5= 93\n",
      "total: 468\n",
      "percentage: 0.936\n"
     ]
    }
   ],
   "source": [
    "multiplefunctions.Findpercentage()"
   ]
  },
  {
   "cell_type": "code",
   "execution_count": null,
   "id": "81c01da7-aee0-4bd8-b3ed-775e2f6ab5eb",
   "metadata": {},
   "outputs": [],
   "source": []
  }
 ],
 "metadata": {
  "kernelspec": {
   "display_name": "Python 3 (ipykernel)",
   "language": "python",
   "name": "python3"
  },
  "language_info": {
   "codemirror_mode": {
    "name": "ipython",
    "version": 3
   },
   "file_extension": ".py",
   "mimetype": "text/x-python",
   "name": "python",
   "nbconvert_exporter": "python",
   "pygments_lexer": "ipython3",
   "version": "3.13.5"
  }
 },
 "nbformat": 4,
 "nbformat_minor": 5
}
